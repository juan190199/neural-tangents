{
 "cells": [
  {
   "cell_type": "markdown",
   "metadata": {
    "colab_type": "text",
    "id": "view-in-github"
   },
   "source": [
    "<a href=\"https://colab.research.google.com/github/google/neural-tangents/blob/main/notebooks/weight_space_linearization.ipynb\" target=\"_parent\"><img src=\"https://colab.research.google.com/assets/colab-badge.svg\" alt=\"Open In Colab\"/></a>"
   ]
  },
  {
   "cell_type": "markdown",
   "metadata": {
    "colab_type": "text",
    "id": "9uPYkWOcghJm",
    "pycharm": {}
   },
   "source": [
    "##### Copyright 2019 Google LLC.\n",
    "\n",
    "Licensed under the Apache License, Version 2.0 (the \"License\");"
   ]
  },
  {
   "cell_type": "markdown",
   "metadata": {
    "colab_type": "text",
    "id": "YDnknGorgv2O",
    "pycharm": {}
   },
   "source": [
    "Licensed under the Apache License, Version 2.0 (the \"License\");\n",
    "you may not use this file except in compliance with the License.\n",
    "You may obtain a copy of the License at\n",
    "\n",
    "https://www.apache.org/licenses/LICENSE-2.0\n",
    "\n",
    "Unless required by applicable law or agreed to in writing, software\n",
    "distributed under the License is distributed on an \"AS IS\" BASIS,\n",
    "WITHOUT WARRANTIES OR CONDITIONS OF ANY KIND, either express or implied.\n",
    "See the License for the specific language governing permissions and\n",
    "limitations under the License."
   ]
  },
  {
   "cell_type": "markdown",
   "metadata": {
    "colab_type": "text",
    "id": "2D2hQ1z3kmNu",
    "pycharm": {}
   },
   "source": [
    "#### Import & Utils"
   ]
  },
  {
   "cell_type": "markdown",
   "metadata": {
    "colab_type": "text",
    "id": "cxFbqXZKhGW0",
    "pycharm": {}
   },
   "source": [
    "Install JAX, Tensorflow Datasets, and Neural Tangents\n",
    "\n",
    "The first line specifies the version of jaxlib that we would like to import. Note, that \"cp36\" species the version of python (version 3.6) used by JAX. Make sure your colab kernel matches this version."
   ]
  },
  {
   "cell_type": "code",
   "execution_count": null,
   "metadata": {
    "colab": {},
    "colab_type": "code",
    "id": "g_gSbMyUhF92"
   },
   "outputs": [],
   "source": [
    "!pip install -q --upgrade pip\n",
    "!pip install -q --upgrade 'jax[cuda]'==0.4.13 -f https://storage.googleapis.com/jax-releases/jax_cuda_releases.html\n",
    "!pip install -q git+https://www.github.com/google/neural-tangents"
   ]
  },
  {
   "cell_type": "code",
   "execution_count": 1,
   "metadata": {
    "colab": {},
    "colab_type": "code",
    "id": "8D0i89hRmNoC",
    "is_executing": true
   },
   "outputs": [
    {
     "ename": "AttributeError",
     "evalue": "module 'jax' has no attribute 'ad'",
     "output_type": "error",
     "traceback": [
      "\u001b[0;31m---------------------------------------------------------------------------\u001b[0m",
      "\u001b[0;31mAttributeError\u001b[0m                            Traceback (most recent call last)",
      "Cell \u001b[0;32mIn[1], line 7\u001b[0m\n\u001b[1;32m      4\u001b[0m \u001b[38;5;28;01mfrom\u001b[39;00m \u001b[38;5;21;01mjax\u001b[39;00m\u001b[38;5;21;01m.\u001b[39;00m\u001b[38;5;21;01mnn\u001b[39;00m \u001b[38;5;28;01mimport\u001b[39;00m log_softmax\n\u001b[1;32m      5\u001b[0m \u001b[38;5;28;01mfrom\u001b[39;00m \u001b[38;5;21;01mjax\u001b[39;00m\u001b[38;5;21;01m.\u001b[39;00m\u001b[38;5;21;01mexample_libraries\u001b[39;00m \u001b[38;5;28;01mimport\u001b[39;00m optimizers\n\u001b[0;32m----> 7\u001b[0m \u001b[38;5;28;01mimport\u001b[39;00m \u001b[38;5;21;01mneural_tangents\u001b[39;00m \u001b[38;5;28;01mas\u001b[39;00m \u001b[38;5;21;01mnt\u001b[39;00m\n\u001b[1;32m      8\u001b[0m \u001b[38;5;28;01mfrom\u001b[39;00m \u001b[38;5;21;01mneural_tangents\u001b[39;00m \u001b[38;5;28;01mimport\u001b[39;00m stax\n\u001b[1;32m     10\u001b[0m \u001b[38;5;28;01mimport\u001b[39;00m \u001b[38;5;21;01mmatplotlib\u001b[39;00m \u001b[38;5;28;01mas\u001b[39;00m \u001b[38;5;21;01mmpl\u001b[39;00m\n",
      "File \u001b[0;32m~/.local/share/virtualenvs/neural-tangents-UAHpeMqC/lib/python3.11/site-packages/neural_tangents/__init__.py:21\u001b[0m\n\u001b[1;32m     16\u001b[0m \u001b[38;5;124;03m\"\"\"Public Neural Tangents modules and functions.\"\"\"\u001b[39;00m\n\u001b[1;32m     19\u001b[0m __version__ \u001b[38;5;241m=\u001b[39m \u001b[38;5;124m'\u001b[39m\u001b[38;5;124m0.6.3\u001b[39m\u001b[38;5;124m'\u001b[39m\n\u001b[0;32m---> 21\u001b[0m \u001b[38;5;28;01mfrom\u001b[39;00m \u001b[38;5;21;01m.\u001b[39;00m \u001b[38;5;28;01mimport\u001b[39;00m experimental\n\u001b[1;32m     22\u001b[0m \u001b[38;5;28;01mfrom\u001b[39;00m \u001b[38;5;21;01m.\u001b[39;00m \u001b[38;5;28;01mimport\u001b[39;00m predict\n\u001b[1;32m     23\u001b[0m \u001b[38;5;28;01mfrom\u001b[39;00m \u001b[38;5;21;01m.\u001b[39;00m \u001b[38;5;28;01mimport\u001b[39;00m stax\n",
      "File \u001b[0;32m~/.local/share/virtualenvs/neural-tangents-UAHpeMqC/lib/python3.11/site-packages/neural_tangents/experimental/__init__.py:15\u001b[0m\n\u001b[1;32m      1\u001b[0m \u001b[38;5;66;03m# Copyright 2022 Google LLC\u001b[39;00m\n\u001b[1;32m      2\u001b[0m \u001b[38;5;66;03m#\u001b[39;00m\n\u001b[1;32m      3\u001b[0m \u001b[38;5;66;03m# Licensed under the Apache License, Version 2.0 (the \"License\");\u001b[39;00m\n\u001b[0;32m   (...)\u001b[0m\n\u001b[1;32m     12\u001b[0m \u001b[38;5;66;03m# See the License for the specific language governing permissions and\u001b[39;00m\n\u001b[1;32m     13\u001b[0m \u001b[38;5;66;03m# limitations under the License.\u001b[39;00m\n\u001b[0;32m---> 15\u001b[0m \u001b[38;5;28;01mfrom\u001b[39;00m \u001b[38;5;21;01m.\u001b[39;00m\u001b[38;5;21;01mempirical_tf\u001b[39;00m\u001b[38;5;21;01m.\u001b[39;00m\u001b[38;5;21;01mempirical\u001b[39;00m \u001b[38;5;28;01mimport\u001b[39;00m empirical_ntk_fn_tf\n\u001b[1;32m     16\u001b[0m \u001b[38;5;28;01mfrom\u001b[39;00m \u001b[38;5;21;01m.\u001b[39;00m\u001b[38;5;21;01mempirical_tf\u001b[39;00m\u001b[38;5;21;01m.\u001b[39;00m\u001b[38;5;21;01mempirical\u001b[39;00m \u001b[38;5;28;01mimport\u001b[39;00m get_apply_fn_and_params\n",
      "File \u001b[0;32m~/.local/share/virtualenvs/neural-tangents-UAHpeMqC/lib/python3.11/site-packages/neural_tangents/experimental/empirical_tf/empirical.py:97\u001b[0m\n\u001b[1;32m     94\u001b[0m \u001b[38;5;28;01mimport\u001b[39;00m \u001b[38;5;21;01mwarnings\u001b[39;00m\n\u001b[1;32m     96\u001b[0m \u001b[38;5;28;01mfrom\u001b[39;00m \u001b[38;5;21;01mjax\u001b[39;00m\u001b[38;5;21;01m.\u001b[39;00m\u001b[38;5;21;01mexperimental\u001b[39;00m \u001b[38;5;28;01mimport\u001b[39;00m jax2tf\n\u001b[0;32m---> 97\u001b[0m \u001b[38;5;28;01mfrom\u001b[39;00m \u001b[38;5;21;01mneural_tangents\u001b[39;00m\u001b[38;5;21;01m.\u001b[39;00m\u001b[38;5;21;01m_src\u001b[39;00m\u001b[38;5;21;01m.\u001b[39;00m\u001b[38;5;21;01mempirical\u001b[39;00m \u001b[38;5;28;01mimport\u001b[39;00m NtkImplementation, empirical_ntk_fn, DEFAULT_NTK_IMPLEMENTATION, _DEFAULT_NTK_FWD, _DEFAULT_NTK_J_RULES, _DEFAULT_NTK_S_RULES\n\u001b[1;32m     98\u001b[0m \u001b[38;5;28;01mfrom\u001b[39;00m \u001b[38;5;21;01mneural_tangents\u001b[39;00m\u001b[38;5;21;01m.\u001b[39;00m\u001b[38;5;21;01m_src\u001b[39;00m\u001b[38;5;21;01m.\u001b[39;00m\u001b[38;5;21;01mutils\u001b[39;00m\u001b[38;5;21;01m.\u001b[39;00m\u001b[38;5;21;01mtyping\u001b[39;00m \u001b[38;5;28;01mimport\u001b[39;00m Axes, PyTree, VMapAxes\n\u001b[1;32m     99\u001b[0m \u001b[38;5;28;01mimport\u001b[39;00m \u001b[38;5;21;01mtensorflow\u001b[39;00m \u001b[38;5;28;01mas\u001b[39;00m \u001b[38;5;21;01mtf\u001b[39;00m\n",
      "File \u001b[0;32m~/.local/share/virtualenvs/neural-tangents-UAHpeMqC/lib/python3.11/site-packages/neural_tangents/_src/empirical.py:122\u001b[0m\n\u001b[1;32m    120\u001b[0m \u001b[38;5;28;01mfrom\u001b[39;00m \u001b[38;5;21;01mjax\u001b[39;00m\u001b[38;5;21;01m.\u001b[39;00m\u001b[38;5;21;01mutil\u001b[39;00m \u001b[38;5;28;01mimport\u001b[39;00m safe_map \u001b[38;5;28;01mas\u001b[39;00m \u001b[38;5;28mmap\u001b[39m, safe_zip \u001b[38;5;28;01mas\u001b[39;00m \u001b[38;5;28mzip\u001b[39m\n\u001b[1;32m    121\u001b[0m \u001b[38;5;28;01mimport\u001b[39;00m \u001b[38;5;21;01mnumpy\u001b[39;00m \u001b[38;5;28;01mas\u001b[39;00m \u001b[38;5;21;01monp\u001b[39;00m\n\u001b[0;32m--> 122\u001b[0m \u001b[38;5;28;01mfrom\u001b[39;00m \u001b[38;5;21;01m.\u001b[39;00m\u001b[38;5;21;01mutils\u001b[39;00m \u001b[38;5;28;01mimport\u001b[39;00m rules\n\u001b[1;32m    123\u001b[0m \u001b[38;5;28;01mfrom\u001b[39;00m \u001b[38;5;21;01m.\u001b[39;00m\u001b[38;5;21;01mutils\u001b[39;00m \u001b[38;5;28;01mimport\u001b[39;00m utils\n\u001b[1;32m    124\u001b[0m \u001b[38;5;28;01mfrom\u001b[39;00m \u001b[38;5;21;01m.\u001b[39;00m\u001b[38;5;21;01mutils\u001b[39;00m\u001b[38;5;21;01m.\u001b[39;00m\u001b[38;5;21;01mtyping\u001b[39;00m \u001b[38;5;28;01mimport\u001b[39;00m ApplyFn, Axes, EmpiricalGetKernelFn, EmpiricalKernelFn, PyTree, VMapAxes, VMapAxisTriple\n",
      "File \u001b[0;32m~/.local/share/virtualenvs/neural-tangents-UAHpeMqC/lib/python3.11/site-packages/neural_tangents/_src/utils/rules.py:1048\u001b[0m\n\u001b[1;32m   1040\u001b[0m \u001b[38;5;28;01mdef\u001b[39;00m \u001b[38;5;21m_zeros_like_j\u001b[39m(\n\u001b[1;32m   1041\u001b[0m     eqn: JaxprEqn,\n\u001b[1;32m   1042\u001b[0m     idx: \u001b[38;5;28mint\u001b[39m,\n\u001b[1;32m   1043\u001b[0m     invals: List[ShapedArray],\n\u001b[1;32m   1044\u001b[0m     cts_in: ShapedArray\n\u001b[1;32m   1045\u001b[0m ) \u001b[38;5;241m-\u001b[39m\u001b[38;5;241m>\u001b[39m np\u001b[38;5;241m.\u001b[39mndarray:\n\u001b[1;32m   1046\u001b[0m   \u001b[38;5;28;01mreturn\u001b[39;00m np\u001b[38;5;241m.\u001b[39mzeros(cts_in\u001b[38;5;241m.\u001b[39mshape \u001b[38;5;241m+\u001b[39m invals[idx]\u001b[38;5;241m.\u001b[39mshape, cts_in\u001b[38;5;241m.\u001b[39mdtype)  \u001b[38;5;66;03m# pytype: disable=unsupported-operands  # always-use-return-annotations\u001b[39;00m\n\u001b[0;32m-> 1048\u001b[0m STRUCTURE_RULES[\u001b[43mjax\u001b[49m\u001b[38;5;241;43m.\u001b[39;49m\u001b[43mad\u001b[49m\u001b[38;5;241m.\u001b[39mzeros_like_p] \u001b[38;5;241m=\u001b[39m _eye_s\n\u001b[1;32m   1049\u001b[0m JACOBIAN_RULES[jax\u001b[38;5;241m.\u001b[39mad\u001b[38;5;241m.\u001b[39mzeros_like_p] \u001b[38;5;241m=\u001b[39m _zeros_like_j\n\u001b[1;32m   1052\u001b[0m \u001b[38;5;28;01mdef\u001b[39;00m \u001b[38;5;21m_transpose_s\u001b[39m(\n\u001b[1;32m   1053\u001b[0m     eqn: JaxprEqn,\n\u001b[1;32m   1054\u001b[0m     idx: \u001b[38;5;28mint\u001b[39m,\n\u001b[1;32m   1055\u001b[0m     invals: List[ShapedArray],\n\u001b[1;32m   1056\u001b[0m     cts_in: ShapedArray\n\u001b[1;32m   1057\u001b[0m ) \u001b[38;5;241m-\u001b[39m\u001b[38;5;241m>\u001b[39m Structure:\n",
      "File \u001b[0;32m~/.local/share/virtualenvs/neural-tangents-UAHpeMqC/lib/python3.11/site-packages/jax/_src/deprecations.py:53\u001b[0m, in \u001b[0;36mdeprecation_getattr.<locals>.getattr\u001b[0;34m(name)\u001b[0m\n\u001b[1;32m     51\u001b[0m   warnings\u001b[38;5;241m.\u001b[39mwarn(message, \u001b[38;5;167;01mDeprecationWarning\u001b[39;00m, stacklevel\u001b[38;5;241m=\u001b[39m\u001b[38;5;241m2\u001b[39m)\n\u001b[1;32m     52\u001b[0m   \u001b[38;5;28;01mreturn\u001b[39;00m fn\n\u001b[0;32m---> 53\u001b[0m \u001b[38;5;28;01mraise\u001b[39;00m \u001b[38;5;167;01mAttributeError\u001b[39;00m(\u001b[38;5;124mf\u001b[39m\u001b[38;5;124m\"\u001b[39m\u001b[38;5;124mmodule \u001b[39m\u001b[38;5;132;01m{\u001b[39;00mmodule\u001b[38;5;132;01m!r}\u001b[39;00m\u001b[38;5;124m has no attribute \u001b[39m\u001b[38;5;132;01m{\u001b[39;00mname\u001b[38;5;132;01m!r}\u001b[39;00m\u001b[38;5;124m\"\u001b[39m)\n",
      "\u001b[0;31mAttributeError\u001b[0m: module 'jax' has no attribute 'ad'"
     ]
    }
   ],
   "source": [
    "from jax import jit, grad, random, vmap\n",
    "\n",
    "import jax.numpy as np\n",
    "from jax.nn import log_softmax\n",
    "from jax.example_libraries import optimizers\n",
    "\n",
    "import neural_tangents as nt\n",
    "from neural_tangents import stax\n",
    "\n",
    "import matplotlib as mpl\n",
    "import matplotlib_inline\n",
    "import matplotlib.pyplot as plt\n",
    "# import matplotlib.colors as colors\n",
    "import functools\n",
    "\n",
    "\n",
    "font_size = 11\n",
    "mpl.rcParams.update({'font.size': font_size, \n",
    "                     'axes.titlesize': font_size, \n",
    "                     'axes.labelsize': font_size - 1, \n",
    "                     'legend.fontsize': font_size - 1, \n",
    "                     'xtick.labelsize': font_size - 2,\n",
    "                     'ytick.labelsize': font_size - 2,\n",
    "                     'savefig.dpi': 300\n",
    "                    })\n",
    "\n",
    "legend = functools.partial(plt.legend, fontsize=9)\n",
    "matplotlib_inline.backend_inline.set_matplotlib_formats('pdf', 'svg')\n",
    "\n",
    "from sklearn.metrics import mean_squared_error\n",
    "import seaborn as sns\n",
    "\n",
    "sns.set(font_scale=1.3)\n",
    "sns.set_style(\"darkgrid\", {\"axes.facecolor\": \".95\"})\n",
    "\n",
    "from utils.utils import loss_fn, choose_random_idxs\n",
    "from utils.viz import format_plot, finalize_plot, plot_fn\n",
    "from utils.optimizers import momentum\n",
    "\n",
    "%load_ext autoreload\n",
    "%autoreload 2"
   ]
  },
  {
   "cell_type": "code",
   "execution_count": null,
   "metadata": {},
   "outputs": [],
   "source": []
  },
  {
   "cell_type": "code",
   "execution_count": null,
   "metadata": {},
   "outputs": [],
   "source": [
    "key = random.PRNGKey(101)"
   ]
  },
  {
   "cell_type": "code",
   "execution_count": null,
   "metadata": {},
   "outputs": [],
   "source": [
    "train_points = 5\n",
    "test_points = 50\n",
    "noise_scale = 1e-1\n",
    "\n",
    "target_fn = lambda x: np.sin(x)"
   ]
  },
  {
   "cell_type": "code",
   "execution_count": null,
   "metadata": {},
   "outputs": [],
   "source": [
    "key, x_key, y_key = random.split(key, 3)\n",
    "\n",
    "x_train = random.uniform(x_key, (train_points, 1), minval=-np.pi, maxval=np.pi)\n",
    "y_train = target_fn(x_train)\n",
    "y_train += noise_scale * random.normal(y_key, (train_points, 1))\n",
    "train = (x_train, y_train)"
   ]
  },
  {
   "cell_type": "code",
   "execution_count": null,
   "metadata": {},
   "outputs": [],
   "source": [
    "x_test = np.linspace(-np.pi, np.pi, test_points)\n",
    "x_test = np.reshape(x_test, (test_points, 1))\n",
    "y_test = target_fn(x_test)\n",
    "test = (x_test, y_test)"
   ]
  },
  {
   "cell_type": "code",
   "execution_count": null,
   "metadata": {},
   "outputs": [],
   "source": [
    "plot_fn(train, test)\n",
    "legend(loc='upper left')\n",
    "finalize_plot((0.85, 0.6))\n",
    "plt.savefig('figures/weight_space_linearization/fn_plot.png')"
   ]
  },
  {
   "cell_type": "markdown",
   "metadata": {
    "colab_type": "text",
    "id": "32Wvhil9X8IK",
    "pycharm": {}
   },
   "source": [
    "# Weight Space Linearization"
   ]
  },
  {
   "cell_type": "code",
   "execution_count": null,
   "metadata": {
    "colab": {},
    "colab_type": "code",
    "id": "UtjfeaYC72Gs"
   },
   "outputs": [],
   "source": [
    "# Training hyperparameters\n",
    "learning_rate = 1e-1\n",
    "batch_size = 128\n",
    "# training_epochs = 5\n",
    "# steps_per_epoch = 50000 // batch_size\n",
    "\n",
    "training_steps = 10000\n",
    "\n",
    "ts = np.arange(0, 10 ** 3, 10 ** -1)\n",
    "print_every = 100"
   ]
  },
  {
   "cell_type": "code",
   "execution_count": null,
   "metadata": {
    "colab": {},
    "colab_type": "code",
    "id": "wIbfrdzq5pLZ"
   },
   "outputs": [],
   "source": [
    "# Define neural network\n",
    "init_fn, apply_fn, _ = stax.serial(\n",
    "    stax.Dense(512, 1.5, 0.05), stax.Erf(),\n",
    "    stax.Dense(512, 1.5, 0.05), stax.Erf(),\n",
    "    stax.Dense(1, 1.5, 0.05)\n",
    ")\n",
    "\n",
    "apply_fn = jit(apply_fn)\n",
    "_, params = init_fn(key, (-1, 1))  # Number of features == 1"
   ]
  },
  {
   "cell_type": "code",
   "execution_count": null,
   "metadata": {
    "colab": {},
    "colab_type": "code",
    "id": "bU6ccJM_8LWt"
   },
   "outputs": [],
   "source": [
    "# Linearize the network\n",
    "apply_fn_lin = nt.linearize(apply_fn, params)"
   ]
  },
  {
   "cell_type": "code",
   "execution_count": null,
   "metadata": {
    "colab": {},
    "colab_type": "code",
    "id": "J-8i_4KD7o5s"
   },
   "outputs": [],
   "source": [
    "# Create an optimizer and initialize it for the full network and the linearized network\n",
    "opt_init, opt_apply, get_params = optimizers.sgd(learning_rate)\n",
    "opt_apply = jit(opt_apply)\n",
    "# state = opt_init(params)\n",
    "# lin_state = opt_init(params)"
   ]
  },
  {
   "cell_type": "code",
   "execution_count": null,
   "metadata": {
    "colab": {},
    "colab_type": "code",
    "id": "z6L-LzyF8qLW"
   },
   "outputs": [],
   "source": [
    "# Create MSE loss\n",
    "loss = lambda fx, y_hat: 0.5 * np.mean((fx - y_hat) ** 2)"
   ]
  },
  {
   "cell_type": "code",
   "execution_count": null,
   "metadata": {
    "colab": {},
    "colab_type": "code",
    "id": "-Z5uKwva9NB9"
   },
   "outputs": [],
   "source": [
    "# Specialize the loss to compute gradients of the network and linearized network\n",
    "grad_loss = jit(grad(lambda params, x, y: loss(apply_fn(params, x), y)))\n",
    "grad_lin_loss = jit(grad(lambda params, x, y: loss(apply_fn_lin(params, x), y)))"
   ]
  },
  {
   "cell_type": "code",
   "execution_count": null,
   "metadata": {},
   "outputs": [],
   "source": [
    "def train_network(key, lin=False, ts=None):\n",
    "    _, params = init_fn(key, (-1, 1))\n",
    "    \n",
    "    if lin is False:\n",
    "        ts_params = []\n",
    "        train_losses = []\n",
    "        test_losses = []\n",
    "        \n",
    "        opt_state = opt_init(params)\n",
    "        \n",
    "        for i in range(training_steps):\n",
    "            # Save params for the training steps\n",
    "            if ts is not None:\n",
    "                if i in ts:\n",
    "                    ts_params += [get_params(opt_state)]\n",
    "            \n",
    "            train_losses += [np.reshape(loss(apply_fn(get_params(opt_state), train[0]), train[1]), (1,))]\n",
    "            test_losses += [np.reshape(loss(apply_fn(get_params(opt_state), test[0]), test[1]), (1,))]\n",
    "            opt_state = opt_apply(i, grad_loss(get_params(opt_state), *train), opt_state)\n",
    "        \n",
    "        train_losses = np.concatenate(train_losses)\n",
    "        test_losses = np.concatenate(test_losses)\n",
    "        \n",
    "        return get_params(opt_state), train_losses, test_losses, ts_params\n",
    "    else:\n",
    "        ts_lin_params = []\n",
    "        train_lin_losses = []\n",
    "        test_lin_losses = []\n",
    "\n",
    "        opt_lin_state = opt_init(params)\n",
    "\n",
    "        for i in range(training_steps):\n",
    "            # Save params for the training steps\n",
    "            if ts is not None:\n",
    "                if i in ts:\n",
    "                    ts_lin_params += [get_params(opt_lin_state)]\n",
    "            \n",
    "            train_lin_losses += [np.reshape(loss(apply_fn_lin(get_params(opt_lin_state), train[0]), train[1]), (1,))]\n",
    "            test_lin_losses += [np.reshape(loss(apply_fn_lin(get_params(opt_lin_state), test[0]), test[1]), (1,))]\n",
    "            opt_lin_state = opt_apply(i, grad_lin_loss(get_params(opt_lin_state), *train), opt_lin_state)\n",
    "\n",
    "        train_lin_losses = np.concatenate(train_lin_losses)\n",
    "        test_lin_losses = np.concatenate(test_lin_losses)\n",
    "        \n",
    "        return get_params(opt_lin_state), train_lin_losses, test_lin_losses, ts_lin_params"
   ]
  },
  {
   "cell_type": "markdown",
   "metadata": {},
   "source": [
    "Test to make sure we get a trained network"
   ]
  },
  {
   "cell_type": "code",
   "execution_count": null,
   "metadata": {},
   "outputs": [],
   "source": [
    "params, train_loss, test_loss, ts_params = train_network(key, lin=False, ts=ts)\n",
    "lin_params, train_lin_loss, test_lin_loss, ts_lin_params = train_network(key, lin=True, ts=ts)"
   ]
  },
  {
   "cell_type": "code",
   "execution_count": null,
   "metadata": {},
   "outputs": [],
   "source": [
    "plot_fn(train, None, xlabel='$x$', ylabel='$f$')\n",
    "\n",
    "plt.plot(x_test, apply_fn(params, x_test), 'k-', linewidth=1.5)\n",
    "plt.plot(x_test, apply_fn_lin(lin_params, x_test), 'k--', linewidth=1.5)\n",
    "\n",
    "legend(['Train', 'Neural network', 'Linearized neural network'], loc='upper left')\n",
    "\n",
    "finalize_plot((0.85, 0.6))"
   ]
  },
  {
   "cell_type": "code",
   "execution_count": null,
   "metadata": {},
   "outputs": [],
   "source": [
    "ensemble_size = 100\n",
    "ensemble_key = random.split(key, ensemble_size)\n",
    "params, train_loss, test_loss, ts_params = vmap(train_network, in_axes=(0, None, None))(ensemble_key, False, ts)\n",
    "lin_params, train_lin_loss, test_lin_loss, ts_lin_params = vmap(train_network, in_axes=(0, None, None))(ensemble_key, True, ts)"
   ]
  },
  {
   "cell_type": "code",
   "execution_count": null,
   "metadata": {},
   "outputs": [],
   "source": [
    "mean_train_loss = np.mean(train_loss, axis=0)\n",
    "var_train_loss = np.var(train_loss, axis=0)\n",
    "\n",
    "mean_test_loss = np.mean(test_loss, axis=0)\n",
    "var_test_loss = np.var(test_loss, axis=0)\n",
    "\n",
    "mean_train_lin_loss = np.mean(train_lin_loss, axis=0)\n",
    "var_train_lin_loss = np.var(train_lin_loss, axis=0)\n",
    "\n",
    "mean_test_lin_loss = np.mean(test_lin_loss, axis=0)\n",
    "var_test_lin_loss = np.var(test_lin_loss, axis=0)"
   ]
  },
  {
   "cell_type": "code",
   "execution_count": null,
   "metadata": {},
   "outputs": [],
   "source": [
    "# For printing in console\n",
    "header_widths = [len(header) for header in ['Time', 'Train loss', 'Train linear loss', 'Test loss', 'Test linear loss']]\n",
    "padding = 2\n",
    "format_string = '\\t'.join('{{:<{}}}'.format(width + padding) for width in header_widths)\n",
    "print(format_string.format('Time', 'Train loss', 'Train linear loss', 'Test loss', 'Test linear loss'))\n",
    "\n",
    "train_output_vals = np.empty((steps_per_epoch, len(x_train)))\n",
    "lin_train_output_vals = np.empty((steps_per_epoch, len(x_train)))\n",
    "test_output_vals = np.empty((steps_per_epoch, len(x_test)))\n",
    "lin_test_output_vals = np.empty((steps_per_epoch, len(x_test)))\n",
    "\n",
    "exact_train_losses = np.empty(steps_per_epoch)\n",
    "lin_train_losses = np.empty(steps_per_epoch)\n",
    "exact_test_losses = np.empty(steps_per_epoch)\n",
    "lin_test_losses = np.empty(steps_per_epoch)\n",
    "train_rmse_vals = np.empty(steps_per_epoch)\n",
    "test_rmse_vals = np.empty(steps_per_epoch)\n",
    "\n",
    "params_shape = np.array(params[0]).squeeze().shape\n",
    "params_array = np.empty((steps_per_epoch, *params_shape))\n",
    "lin_params_array = np.empty((steps_per_epoch, *params_shape))\n",
    "\n",
    "for i in range(steps_per_epoch):\n",
    "    params = get_params(state)\n",
    "    state = opt_apply(i, grad_loss(params, x_train, y_train), state)\n",
    "    \n",
    "    lin_params = get_params(lin_state)\n",
    "    lin_state = opt_apply(i, grad_lin_loss(lin_params, x_train, y_train), lin_state)\n",
    "    \n",
    "    # Train loss and accuracy\n",
    "    exact_train_output = apply_fn(params, x_train)\n",
    "    lin_train_output = apply_fn_lin(lin_params, x_train)\n",
    "    exact_train_loss = loss(exact_train_output, y_train)\n",
    "    lin_train_loss = loss(lin_train_output, y_train)\n",
    "    \n",
    "    # Test loss and accuracy\n",
    "    exact_test_output = apply_fn(params, x_test)\n",
    "    lin_test_output = apply_fn_lin(lin_params, x_test)\n",
    "    exact_test_loss = loss(exact_test_output, y_test)\n",
    "    lin_test_loss = loss(lin_test_output, y_test)\n",
    "    \n",
    "    # Train and test RMSE\n",
    "    train_rmse = np.sqrt(mean_squared_error(exact_train_output, lin_train_output))\n",
    "    test_rmse = np.sqrt(mean_squared_error(exact_test_output, lin_test_output))\n",
    "    \n",
    "    if i % print_every == 0:\n",
    "        t = i * learning_rate\n",
    "        print(format_string.format(i, '{:.4f}'.format(exact_train_loss), '{:.4f}'.format(lin_train_loss), '{:.4f}'.format(exact_test_loss), '{:.4f}'.format(lin_test_loss), '{:.4f}'.format(train_rmse), '{:.4f}'.format(test_rmse)))\n",
    "    \n",
    "    # For plotting purposes\n",
    "    # Parameter changes\n",
    "    params_squeezed = np.array(params[0]).squeeze()\n",
    "    params_array = params_array.at[i].set(params_squeezed)\n",
    "    lin_params_squeezed = np.array(lin_params[0]).squeeze()\n",
    "    lin_params_array = lin_params_array.at[i].set(lin_params_squeezed)\n",
    "    \n",
    "    \n",
    "    # Output values\n",
    "    train_output_vals = train_output_vals.at[i].set(exact_train_output.flatten())\n",
    "    lin_train_output_vals = lin_train_output_vals.at[i].set(lin_train_output.flatten())\n",
    "    test_output_vals = test_output_vals.at[i].set(exact_test_output.flatten())\n",
    "    lin_test_output_vals = lin_test_output_vals.at[i].set(lin_test_output.flatten())\n",
    "\n",
    "    # Losses\n",
    "    exact_train_losses = exact_train_losses.at[i].set(exact_train_loss)\n",
    "    lin_train_losses = lin_train_losses.at[i].set(lin_train_loss)\n",
    "    exact_test_losses = exact_test_losses.at[i].set(exact_test_loss)\n",
    "    lin_test_losses = lin_test_losses.at[i].set(lin_test_loss)\n",
    "\n",
    "    # RMSE\n",
    "    train_rmse_vals = train_rmse_vals.at[i].set(train_rmse)\n",
    "    test_rmse_vals = test_rmse_vals.at[i].set(test_rmse)"
   ]
  },
  {
   "cell_type": "code",
   "execution_count": null,
   "metadata": {},
   "outputs": [],
   "source": [
    "cmap = plt.get_cmap('Dark2')\n",
    "\n",
    "# Plot training output wrt. time steps\n",
    "\n",
    "plt.subplot(2, 3, 1)\n",
    "\n",
    "for k in range(train_points):\n",
    "    color = cmap(k)\n",
    "    plt.plot(np.arange(steps_per_epoch), train_output_vals[:, k],'-', color=color, label='Neural network')\n",
    "    plt.plot(np.arange(steps_per_epoch), lin_train_output_vals[:, k], '--', color=color, label='Linearized model')\n",
    "    \n",
    "    plt.xscale('log')\n",
    "\n",
    "# Plot test output wrt. time steps\n",
    "\n",
    "plt.subplot(2, 3, 2)\n",
    "\n",
    "for k in range(train_points):\n",
    "    color = cmap(k)\n",
    "    plt.plot(np.arange(steps_per_epoch), test_output_vals[:, k],'-', color=color)\n",
    "    plt.plot(np.arange(steps_per_epoch), lin_test_output_vals[:, k], '--', color=color)\n",
    "    \n",
    "    plt.xscale('log')\n",
    "    \n",
    "    \n",
    "# Plot weight change wrt. time steps\n",
    "plt.subplot(2, 3, 3)\n",
    "\n",
    "# Choose random idx\n",
    "n_params_plot = 2\n",
    "\n",
    "key, subkey1, subkey2 = random.split(key, 3)\n",
    "idxs1 = choose_random_idxs(subkey1, params_array.shape[1], 1)\n",
    "idxs2 = choose_random_idxs(subkey2, params_array.shape[2], n_params_plot)\n",
    "\n",
    "for i, k in enumerate(idxs2):\n",
    "    color = cmap(i)\n",
    "    plt.plot(np.arange(steps_per_epoch), params_array[:, idxs1, k], '-', color=color)\n",
    "    plt.plot(np.arange(steps_per_epoch), lin_params_array[:, idxs1, k], '--', color=color)\n",
    "    \n",
    "plt.xscale('log')\n",
    "\n",
    "    \n",
    "# Plot loss training and test sets wrt. time steps\n",
    "\n",
    "plt.subplot(2, 3, 4)\n",
    "\n",
    "plt.plot(np.arange(steps_per_epoch), exact_train_losses[:], 'k--', label='Train')\n",
    "plt.plot(np.arange(steps_per_epoch), lin_train_losses[:], 'b--', label=r'Train $f^{\\mathrm{lin}}$')\n",
    "plt.plot(np.arange(steps_per_epoch), exact_test_losses[:], 'k-', label='Test')\n",
    "plt.plot(np.arange(steps_per_epoch), lin_test_losses[:], 'b-', label=r'Test $f^{\\mathrm{lin}}$')\n",
    "\n",
    "plt.xscale('log')\n",
    "\n",
    "\n",
    "# Plot RMSE wrt. time steps\n",
    "plt.subplot(2, 3, 5)\n",
    "\n",
    "\n",
    "plt.plot(np.arange(steps_per_epoch), train_rmse_vals[:], 'k--')\n",
    "plt.plot(np.arange(steps_per_epoch), test_rmse_vals[:], 'k-')\n",
    "\n",
    "plt.xscale('log')\n",
    "plt.yscale('log')\n",
    "\n",
    "# Compute average variance for \n",
    "# See what happens with the weights while incrementing the width\n",
    "# Compare with theta_0"
   ]
  },
  {
   "cell_type": "markdown",
   "metadata": {},
   "source": [
    "### Training an ensemble of neural networks"
   ]
  },
  {
   "cell_type": "code",
   "execution_count": null,
   "metadata": {},
   "outputs": [],
   "source": [
    "def train_network(key, ts=None):\n",
    "    ts_params = []\n",
    "    train_losses = []\n",
    "    test_losses = []\n",
    "\n",
    "    _, params = init_fn(key, (-1, 1))\n",
    "    opt_state = opt_init(params)\n",
    "\n",
    "    for i in range(training_steps):\n",
    "        # Save params for the training steps\n",
    "        if ts is not None:\n",
    "            if i in ts:\n",
    "                ts_params += [get_params(opt_state)]\n",
    "            \n",
    "        train_losses += [np.reshape(loss(get_params(opt_state), *train), (1,))]\n",
    "        test_losses += [np.reshape(loss(get_params(opt_state), *test), (1,))]\n",
    "        opt_state = opt_update(i, grad_loss(opt_state, *train), opt_state)\n",
    "\n",
    "    train_losses = np.concatenate(train_losses)\n",
    "    test_losses = np.concatenate(test_losses)\n",
    "    \n",
    "    return get_params(opt_state), train_losses, test_losses, ts_params"
   ]
  }
 ],
 "metadata": {
  "accelerator": "GPU",
  "colab": {
   "collapsed_sections": [
    "2D2hQ1z3kmNu"
   ],
   "last_runtime": {
    "build_target": "//learning/deepmind/dm_python:dm_notebook3",
    "kind": "private"
   },
   "name": "Weight Space Linearization.ipynb",
   "provenance": []
  },
  "kernelspec": {
   "display_name": "Python 3 (ipykernel)",
   "language": "python",
   "name": "python3"
  },
  "language_info": {
   "codemirror_mode": {
    "name": "ipython",
    "version": 3
   },
   "file_extension": ".py",
   "mimetype": "text/x-python",
   "name": "python",
   "nbconvert_exporter": "python",
   "pygments_lexer": "ipython3",
   "version": "3.11.0"
  }
 },
 "nbformat": 4,
 "nbformat_minor": 4
}
